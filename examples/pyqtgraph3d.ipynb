{
 "cells": [
  {
   "cell_type": "code",
   "execution_count": 13,
   "metadata": {},
   "outputs": [],
   "source": [
    "# -*- coding: utf-8 -*-\n",
    "\"\"\"\n",
    "    Animated 3D sinc function\n",
    "\"\"\"\n",
    "\n",
    "from pyqtgraph.Qt import QtCore, QtGui\n",
    "import pyqtgraph.opengl as gl\n",
    "import pyqtgraph as pg\n",
    "import numpy as np\n",
    "import sys"
   ]
  },
  {
   "cell_type": "code",
   "execution_count": 18,
   "metadata": {},
   "outputs": [],
   "source": [
    "import pyqtgraph.examples as e\n",
    "e.run()"
   ]
  },
  {
   "cell_type": "code",
   "execution_count": 15,
   "metadata": {},
   "outputs": [
    {
     "name": "stdout",
     "output_type": "stream",
     "text": [
      "Help on function scale in module pyqtgraph.opengl.GLGraphicsItem:\n",
      "\n",
      "scale(self, x, y, z, local=True)\n",
      "    Scale the object by (*dx*, *dy*, *dz*) in its local coordinate system.\n",
      "    If *local* is False, then scale takes place in the parent's coordinates.\n",
      "\n"
     ]
    }
   ],
   "source": [
    "help(gl.GLGridItem.scale)"
   ]
  }
 ],
 "metadata": {
  "kernelspec": {
   "display_name": "Python 3.9.7 ('base')",
   "language": "python",
   "name": "python3"
  },
  "language_info": {
   "codemirror_mode": {
    "name": "ipython",
    "version": 3
   },
   "file_extension": ".py",
   "mimetype": "text/x-python",
   "name": "python",
   "nbconvert_exporter": "python",
   "pygments_lexer": "ipython3",
   "version": "3.9.7"
  },
  "vscode": {
   "interpreter": {
    "hash": "d395a881eae0f3c34298f2428d8cb468ec143c8f6fccfeb6ff76c40346ac66e0"
   }
  }
 },
 "nbformat": 4,
 "nbformat_minor": 4
}
