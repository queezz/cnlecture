{
 "cells": [
  {
   "cell_type": "code",
   "execution_count": 1,
   "metadata": {},
   "outputs": [],
   "source": [
    "import ipywidgets as widgets\n",
    "import matplotlib.pyplot as plt\n",
    "import numpy as np\n",
    "import math"
   ]
  },
  {
   "cell_type": "code",
   "execution_count": 2,
   "metadata": {},
   "outputs": [],
   "source": [
    "#! %matplotlib widget"
   ]
  },
  {
   "cell_type": "code",
   "execution_count": 3,
   "metadata": {},
   "outputs": [
    {
     "data": {
      "application/vnd.jupyter.widget-view+json": {
       "model_id": "bd9a23aeb4d64ac0a52b3aec0a693192",
       "version_major": 2,
       "version_minor": 0
      },
      "text/plain": [
       "interactive(children=(FloatSlider(value=0.25, description='phi', max=2.0, step=0.05), FloatSlider(value=0.7071…"
      ]
     },
     "metadata": {},
     "output_type": "display_data"
    }
   ],
   "source": [
    "phi = 1\n",
    "\n",
    "# Unit Circle, parametric equation\n",
    "t = np.linspace(-np.pi / 12, np.pi * 2, 100)\n",
    "x = np.cos(t)\n",
    "y = np.sin(t)\n",
    "# plt.plot(x, y, \"C2-\", lw=1)\n",
    "\n",
    "\n",
    "def make_spiral(phi,r):\n",
    "    ax = plt.gca()\n",
    "    # Centered axes with arrows\n",
    "    ax.spines[\"left\"].set_position((\"data\", 0))\n",
    "    ax.spines[\"bottom\"].set_position((\"data\", 0))\n",
    "    # Hide the top and right spines.\n",
    "    ax.spines[\"top\"].set_visible(False)\n",
    "    ax.spines[\"right\"].set_visible(False)\n",
    "    ax.plot(1, 0, \">k\", transform=ax.get_yaxis_transform(), clip_on=False)\n",
    "    ax.plot(0, 1, \"^k\", transform=ax.get_xaxis_transform(), clip_on=False)\n",
    "\n",
    "    ax.plot(x, y, \"C2-\", lw=1)\n",
    "    # Calculate complex number on a unit circle from supplied argument\n",
    "    phi = np.pi*phi\n",
    "    z = np.exp(1j * phi)*r\n",
    "    b = (z**50-1)/(z-1)\n",
    "    # Plot z and its vector\n",
    "    ax.plot(z.real, z.imag, \"x\", ms=14, mew=3, c=\"C0\",label=f'$e^{{i\\cdot{phi/np.pi:.2f}\\pi}}$')    \n",
    "\n",
    "    ax.quiver(\n",
    "        np.real(z),\n",
    "        np.imag(z),\n",
    "        scale_units=\"xy\",\n",
    "        scale=1,\n",
    "        width=0.006,\n",
    "        color=\"k\",\n",
    "        zorder=4,\n",
    "    )\n",
    "\n",
    "    # Define series, up to some number (20)\n",
    "    s = np.array(\n",
    "        \n",
    "        [z ** i for i in range(0, 50)]\n",
    "    )\n",
    "    # Plot the spiral in a cicle\n",
    "    [\n",
    "        ax.quiver(\n",
    "            sum(s[:i]).real,  # initial point, real coordinate\n",
    "            sum(s[:i]).imag,  # initial point, imaginary coordinate\n",
    "            s[i].real,  # end point, real coordinate\n",
    "            s[i].imag,  # end point, imaginary coordinate\n",
    "            scale_units=\"xy\",\n",
    "            scale=1,\n",
    "            width=0.01,\n",
    "            color=\"C3\",\n",
    "            zorder=5,\n",
    "        )\n",
    "        for i in range(1, len(s))\n",
    "    ]\n",
    "    #lim = np.abs(s).max() + 0.1\n",
    "    #ax.set_xlim([-lim,lim])\n",
    "    #ax.set_ylim([-lim,lim])\n",
    "    ax.plot(b.real, b.imag, \"x\", ms=14, mew=1, c=\"C1\",label=f'${b.real:.2f} + {b.imag:.2f}i$')\n",
    "    ax.legend(loc=2,bbox_to_anchor=[1,1])\n",
    "\n",
    "\n",
    "    ax.set_aspect(\"equal\")\n",
    "    plt.grid(zorder=0)\n",
    "    ax.set_xlim([-1,2.5])\n",
    "    ax.set_ylim([-2,2])\n",
    "\n",
    "@widgets.interact(\n",
    "    phi=(0, 2 , 0.05),\n",
    "    r=(0, 2, 0.05)\n",
    ")\n",
    "\n",
    "def update(phi=0.25,r=0.5**0.5):\n",
    "    \"\"\"Remove old lines from plot and plot new one\"\"\"\n",
    "    [artist.remove() for artist in plt.gca().lines + plt.gca().collections]\n",
    "    make_spiral(phi,r)"
   ]
  }
 ],
 "metadata": {
  "kernelspec": {
   "display_name": "Python 3.9.7 ('base')",
   "language": "python",
   "name": "python3"
  },
  "language_info": {
   "codemirror_mode": {
    "name": "ipython",
    "version": 3
   },
   "file_extension": ".py",
   "mimetype": "text/x-python",
   "name": "python",
   "nbconvert_exporter": "python",
   "pygments_lexer": "ipython3",
   "version": "3.9.7"
  },
  "vscode": {
   "interpreter": {
    "hash": "d395a881eae0f3c34298f2428d8cb468ec143c8f6fccfeb6ff76c40346ac66e0"
   }
  }
 },
 "nbformat": 4,
 "nbformat_minor": 4
}
